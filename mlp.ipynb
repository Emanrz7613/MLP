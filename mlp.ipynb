{
 "cells": [
  {
   "cell_type": "code",
   "execution_count": 132,
   "metadata": {},
   "outputs": [],
   "source": [
    "import tensorflow as tf\n",
    "from tensorflow.keras.models import Sequential\n",
    "from tensorflow.keras.layers import Dense, Dropout\n",
    "from sklearn.model_selection import train_test_split\n",
    "from sklearn.preprocessing import StandardScaler\n",
    "from sklearn.metrics import classification_report\n",
    "import pandas as pd\n",
    "import numpy as np"
   ]
  },
  {
   "cell_type": "code",
   "execution_count": 133,
   "metadata": {},
   "outputs": [],
   "source": [
    "data = pd.read_csv('mlp_data_preprocessed.csv')"
   ]
  },
  {
   "cell_type": "code",
   "execution_count": 134,
   "metadata": {},
   "outputs": [],
   "source": [
    "# Split features and target variable\n",
    "X = data.drop('good_bad', axis=1)\n",
    "y = data['good_bad']"
   ]
  },
  {
   "cell_type": "code",
   "execution_count": 135,
   "metadata": {},
   "outputs": [],
   "source": [
    "# Split the dataset into training and testing sets\n",
    "X_train, X_test, y_train, y_test = train_test_split(X, y, test_size=0.2, random_state=42)"
   ]
  },
  {
   "cell_type": "code",
   "execution_count": 136,
   "metadata": {},
   "outputs": [],
   "source": [
    "# Scale the features\n",
    "scaler = StandardScaler()\n",
    "X_train = scaler.fit_transform(X_train)\n",
    "X_test = scaler.transform(X_test)\n",
    "# Convert y_train, y_test to a NumPy array\n",
    "y_train = y_train.to_numpy()\n",
    "y_test = y_test.to_numpy()\n"
   ]
  },
  {
   "cell_type": "code",
   "execution_count": 137,
   "metadata": {},
   "outputs": [],
   "source": [
    "# Define the MLP model architecture\n",
    "model = Sequential([\n",
    "    Dense(64, input_dim=X_train.shape[1], activation='relu'),\n",
    "    Dropout(0.5),\n",
    "    Dense(64, activation='relu'),\n",
    "    Dropout(0.5),\n",
    "    Dense(1, activation='sigmoid')  # Output layer for binary classification\n",
    "])"
   ]
  },
  {
   "cell_type": "code",
   "execution_count": 138,
   "metadata": {},
   "outputs": [],
   "source": [
    "# Compile the model\n",
    "model.compile(optimizer='adam',\n",
    "              loss='binary_crossentropy',  # Loss function for binary classification\n",
    "              metrics=['accuracy'])"
   ]
  },
  {
   "cell_type": "code",
   "execution_count": 139,
   "metadata": {},
   "outputs": [
    {
     "name": "stdout",
     "output_type": "stream",
     "text": [
      "Epoch 1/10\n",
      "7919/7919 [==============================] - 10s 1ms/step - loss: 0.1463 - accuracy: 0.9603 - val_loss: 0.0871 - val_accuracy: 0.9773\n",
      "Epoch 2/10\n",
      "7919/7919 [==============================] - 9s 1ms/step - loss: 0.0952 - accuracy: 0.9755 - val_loss: 0.0873 - val_accuracy: 0.9761\n",
      "Epoch 3/10\n",
      "7919/7919 [==============================] - 9s 1ms/step - loss: 0.0979 - accuracy: 0.9764 - val_loss: 0.0789 - val_accuracy: 0.9787\n",
      "Epoch 4/10\n",
      "7919/7919 [==============================] - 9s 1ms/step - loss: 0.0918 - accuracy: 0.9769 - val_loss: 0.0780 - val_accuracy: 0.9779\n",
      "Epoch 5/10\n",
      "7919/7919 [==============================] - 9s 1ms/step - loss: 0.0925 - accuracy: 0.9772 - val_loss: 0.0764 - val_accuracy: 0.9786\n",
      "Epoch 6/10\n",
      "7919/7919 [==============================] - 9s 1ms/step - loss: 0.0835 - accuracy: 0.9776 - val_loss: 0.0743 - val_accuracy: 0.9785\n",
      "Epoch 7/10\n",
      "7919/7919 [==============================] - 9s 1ms/step - loss: 0.0841 - accuracy: 0.9782 - val_loss: 0.0716 - val_accuracy: 0.9800\n",
      "Epoch 8/10\n",
      "7919/7919 [==============================] - 9s 1ms/step - loss: 0.0818 - accuracy: 0.9788 - val_loss: 0.0674 - val_accuracy: 0.9801\n",
      "Epoch 9/10\n",
      "7919/7919 [==============================] - 9s 1ms/step - loss: 0.0783 - accuracy: 0.9789 - val_loss: 0.0667 - val_accuracy: 0.9803\n",
      "Epoch 10/10\n",
      "7919/7919 [==============================] - 9s 1ms/step - loss: 0.0747 - accuracy: 0.9793 - val_loss: 0.0683 - val_accuracy: 0.9798\n"
     ]
    }
   ],
   "source": [
    "# Train the model\n",
    "history = model.fit(X_train, y_train, epochs=10, batch_size=32, validation_split=0.2)"
   ]
  },
  {
   "cell_type": "code",
   "execution_count": 140,
   "metadata": {},
   "outputs": [
    {
     "name": "stdout",
     "output_type": "stream",
     "text": [
      "2475/2475 [==============================] - 2s 667us/step - loss: 0.1027 - accuracy: 0.9795\n"
     ]
    }
   ],
   "source": [
    "# Evaluate the model on the test data\n",
    "loss, accuracy = model.evaluate(X_test, y_test)"
   ]
  },
  {
   "cell_type": "code",
   "execution_count": 141,
   "metadata": {},
   "outputs": [
    {
     "name": "stdout",
     "output_type": "stream",
     "text": [
      "2475/2475 [==============================] - 2s 588us/step\n"
     ]
    }
   ],
   "source": [
    "# Generate predictions\n",
    "y_pred = (model.predict(X_test) > 0.5).astype(\"int32\").flatten()"
   ]
  },
  {
   "cell_type": "code",
   "execution_count": 142,
   "metadata": {},
   "outputs": [
    {
     "name": "stdout",
     "output_type": "stream",
     "text": [
      "Test Accuracy: 0.979542076587677\n"
     ]
    }
   ],
   "source": [
    "# Print the accuracy\n",
    "print(f\"Test Accuracy: {accuracy}\")"
   ]
  },
  {
   "cell_type": "code",
   "execution_count": 143,
   "metadata": {},
   "outputs": [
    {
     "name": "stdout",
     "output_type": "stream",
     "text": [
      "              precision    recall  f1-score   support\n",
      "\n",
      "           0       1.00      0.80      0.89      7989\n",
      "           1       0.98      1.00      0.99     71198\n",
      "\n",
      "    accuracy                           0.98     79187\n",
      "   macro avg       0.99      0.90      0.94     79187\n",
      "weighted avg       0.98      0.98      0.98     79187\n",
      "\n"
     ]
    }
   ],
   "source": [
    "# Print the classification report\n",
    "print(classification_report(y_test, y_pred))"
   ]
  }
 ],
 "metadata": {
  "kernelspec": {
   "display_name": ".venv",
   "language": "python",
   "name": "python3"
  },
  "language_info": {
   "codemirror_mode": {
    "name": "ipython",
    "version": 3
   },
   "file_extension": ".py",
   "mimetype": "text/x-python",
   "name": "python",
   "nbconvert_exporter": "python",
   "pygments_lexer": "ipython3",
   "version": "3.11.1"
  }
 },
 "nbformat": 4,
 "nbformat_minor": 2
}
